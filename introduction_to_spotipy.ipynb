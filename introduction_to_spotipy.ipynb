{
 "cells": [
  {
   "cell_type": "markdown",
   "metadata": {},
   "source": [
    "# An Introduction to Spotipy"
   ]
  },
  {
   "cell_type": "markdown",
   "metadata": {},
   "source": [
    "This notebook serves as supplementary material for my medium article called \"How to Create Large Music Datasets in 3 Steps Using Spotipy\"."
   ]
  },
  {
   "cell_type": "markdown",
   "metadata": {},
   "source": [
    "## 1. Imports and Authorization"
   ]
  },
  {
   "cell_type": "markdown",
   "metadata": {},
   "source": [
    "Imports"
   ]
  },
  {
   "cell_type": "code",
   "execution_count": 1,
   "metadata": {},
   "outputs": [],
   "source": [
    "import spotipy\n",
    "import spotipy.util as util\n",
    "import pandas as pd # for later"
   ]
  },
  {
   "cell_type": "markdown",
   "metadata": {},
   "source": [
    "Authorization"
   ]
  },
  {
   "cell_type": "code",
   "execution_count": 13,
   "metadata": {},
   "outputs": [],
   "source": [
    "CLIENT_ID = \"ClientID\" # enter your own here\n",
    "CLIENT_SECRET = \"SecretClientID\" # enter your own here"
   ]
  },
  {
   "cell_type": "code",
   "execution_count": 14,
   "metadata": {},
   "outputs": [],
   "source": [
    "token = util.oauth2.SpotifyClientCredentials(client_id=CLIENT_ID, client_secret=CLIENT_SECRET)\n",
    "cache_token = token.get_access_token()\n",
    "sp = spotipy.Spotify(cache_token)"
   ]
  },
  {
   "cell_type": "markdown",
   "metadata": {},
   "source": [
    "## 2. Find Playlist to Analyze"
   ]
  },
  {
   "cell_type": "code",
   "execution_count": 15,
   "metadata": {},
   "outputs": [],
   "source": [
    "playlist_creator = \"spotify\"\n",
    "playlist_id = \"37i9dQZF1DX5IDTimEWoTd\""
   ]
  },
  {
   "cell_type": "markdown",
   "metadata": {},
   "source": [
    "## 3. Analyze Playlist Tracks"
   ]
  },
  {
   "cell_type": "markdown",
   "metadata": {},
   "source": [
    "### 3.1 Analyze a Single Playlist"
   ]
  },
  {
   "cell_type": "markdown",
   "metadata": {},
   "source": [
    "Define the analysis function."
   ]
  },
  {
   "cell_type": "code",
   "execution_count": 17,
   "metadata": {},
   "outputs": [],
   "source": [
    "def analyze_playlist(creator, playlist_id):\n",
    "    \n",
    "    # Create empty dataframe\n",
    "    playlist_features_list = [\"artist\", \"album\", \"track_name\", \"track_id\", \n",
    "                             \"danceability\", \"energy\", \"key\", \"loudness\", \"mode\", \"speechiness\",\n",
    "                             \"instrumentalness\", \"liveness\", \"valence\", \"tempo\", \"duration_ms\", \"time_signature\"]\n",
    "    playlist_df = pd.DataFrame(columns = playlist_features_list)\n",
    "    \n",
    "    # Create empty dict\n",
    "    playlist_features = {}\n",
    "    \n",
    "    # Loop through every track in the playlist, extract features and append the features to the playlist df\n",
    "    playlist = sp.user_playlist_tracks(creator, playlist_id)[\"items\"]\n",
    "    for track in playlist:\n",
    "        # Get metadata\n",
    "        playlist_features[\"artist\"] = track[\"track\"][\"album\"][\"artists\"][0][\"name\"]\n",
    "        playlist_features[\"album\"] = track[\"track\"][\"album\"][\"name\"]\n",
    "        playlist_features[\"track_name\"] = track[\"track\"][\"name\"]\n",
    "        playlist_features[\"track_id\"] = track[\"track\"][\"id\"]\n",
    "        # Get audio features\n",
    "        audio_features = sp.audio_features(playlist_features[\"track_id\"])[0]\n",
    "        for feature in playlist_features_list[4:]:\n",
    "            playlist_features[feature] = audio_features[feature]\n",
    "        \n",
    "        # Concat the dfs\n",
    "        track_df = pd.DataFrame(playlist_features, index = [0])\n",
    "        playlist_df = pd.concat([playlist_df, track_df], ignore_index = True)\n",
    "        \n",
    "    return playlist_df"
   ]
  },
  {
   "cell_type": "code",
   "execution_count": 18,
   "metadata": {},
   "outputs": [],
   "source": [
    "playlist_df = analyze_playlist(playlist_creator, playlist_id)"
   ]
  },
  {
   "cell_type": "code",
   "execution_count": 24,
   "metadata": {},
   "outputs": [
    {
     "data": {
      "text/html": [
       "<div>\n",
       "<style scoped>\n",
       "    .dataframe tbody tr th:only-of-type {\n",
       "        vertical-align: middle;\n",
       "    }\n",
       "\n",
       "    .dataframe tbody tr th {\n",
       "        vertical-align: top;\n",
       "    }\n",
       "\n",
       "    .dataframe thead th {\n",
       "        text-align: right;\n",
       "    }\n",
       "</style>\n",
       "<table border=\"1\" class=\"dataframe\">\n",
       "  <thead>\n",
       "    <tr style=\"text-align: right;\">\n",
       "      <th></th>\n",
       "      <th>artist</th>\n",
       "      <th>album</th>\n",
       "      <th>track_name</th>\n",
       "      <th>track_id</th>\n",
       "      <th>danceability</th>\n",
       "      <th>energy</th>\n",
       "      <th>key</th>\n",
       "      <th>loudness</th>\n",
       "      <th>mode</th>\n",
       "      <th>speechiness</th>\n",
       "      <th>instrumentalness</th>\n",
       "      <th>liveness</th>\n",
       "      <th>valence</th>\n",
       "      <th>tempo</th>\n",
       "      <th>duration_ms</th>\n",
       "      <th>time_signature</th>\n",
       "    </tr>\n",
       "  </thead>\n",
       "  <tbody>\n",
       "    <tr>\n",
       "      <th>0</th>\n",
       "      <td>James Arthur</td>\n",
       "      <td>Falling Like The Stars</td>\n",
       "      <td>Falling Like The Stars</td>\n",
       "      <td>15xWRPHQMeqgdkGzInx3PY</td>\n",
       "      <td>0.296</td>\n",
       "      <td>0.351</td>\n",
       "      <td>6</td>\n",
       "      <td>-9.538</td>\n",
       "      <td>1</td>\n",
       "      <td>0.0351</td>\n",
       "      <td>0.000002</td>\n",
       "      <td>0.1100</td>\n",
       "      <td>0.190</td>\n",
       "      <td>177.596</td>\n",
       "      <td>212720</td>\n",
       "      <td>3</td>\n",
       "    </tr>\n",
       "    <tr>\n",
       "      <th>1</th>\n",
       "      <td>Lauv</td>\n",
       "      <td>Spotify Singles</td>\n",
       "      <td>I Like Me Better - Recorded at Spotify Studios...</td>\n",
       "      <td>2uQNcZYa0SEbfW4cj0d9OS</td>\n",
       "      <td>0.454</td>\n",
       "      <td>0.151</td>\n",
       "      <td>9</td>\n",
       "      <td>-13.444</td>\n",
       "      <td>1</td>\n",
       "      <td>0.0600</td>\n",
       "      <td>0.000000</td>\n",
       "      <td>0.0792</td>\n",
       "      <td>0.362</td>\n",
       "      <td>90.187</td>\n",
       "      <td>202685</td>\n",
       "      <td>4</td>\n",
       "    </tr>\n",
       "    <tr>\n",
       "      <th>2</th>\n",
       "      <td>Taylor Swift</td>\n",
       "      <td>Lover (Remix) [feat. Shawn Mendes]</td>\n",
       "      <td>Lover (Remix) [feat. Shawn Mendes]</td>\n",
       "      <td>3i9UVldZOE0aD0JnyfAZZ0</td>\n",
       "      <td>0.448</td>\n",
       "      <td>0.603</td>\n",
       "      <td>7</td>\n",
       "      <td>-7.176</td>\n",
       "      <td>1</td>\n",
       "      <td>0.0640</td>\n",
       "      <td>0.000000</td>\n",
       "      <td>0.0862</td>\n",
       "      <td>0.422</td>\n",
       "      <td>205.272</td>\n",
       "      <td>221307</td>\n",
       "      <td>3</td>\n",
       "    </tr>\n",
       "    <tr>\n",
       "      <th>3</th>\n",
       "      <td>Ed Sheeran</td>\n",
       "      <td>Best Part of Me (feat. YEBBA)</td>\n",
       "      <td>Best Part of Me (feat. YEBBA)</td>\n",
       "      <td>5ug4vqGZ3eisGhY1IsziNX</td>\n",
       "      <td>0.565</td>\n",
       "      <td>0.242</td>\n",
       "      <td>2</td>\n",
       "      <td>-8.367</td>\n",
       "      <td>1</td>\n",
       "      <td>0.0318</td>\n",
       "      <td>0.000009</td>\n",
       "      <td>0.2850</td>\n",
       "      <td>0.237</td>\n",
       "      <td>81.657</td>\n",
       "      <td>243267</td>\n",
       "      <td>4</td>\n",
       "    </tr>\n",
       "    <tr>\n",
       "      <th>4</th>\n",
       "      <td>Niall Horan</td>\n",
       "      <td>Put A Little Love On Me</td>\n",
       "      <td>Put A Little Love On Me</td>\n",
       "      <td>1hCTxutVVYvggAQcUUUZAT</td>\n",
       "      <td>0.584</td>\n",
       "      <td>0.465</td>\n",
       "      <td>10</td>\n",
       "      <td>-4.880</td>\n",
       "      <td>1</td>\n",
       "      <td>0.0262</td>\n",
       "      <td>0.000000</td>\n",
       "      <td>0.1060</td>\n",
       "      <td>0.299</td>\n",
       "      <td>95.969</td>\n",
       "      <td>224586</td>\n",
       "      <td>4</td>\n",
       "    </tr>\n",
       "  </tbody>\n",
       "</table>\n",
       "</div>"
      ],
      "text/plain": [
       "         artist                               album  \\\n",
       "0  James Arthur              Falling Like The Stars   \n",
       "1          Lauv                     Spotify Singles   \n",
       "2  Taylor Swift  Lover (Remix) [feat. Shawn Mendes]   \n",
       "3    Ed Sheeran       Best Part of Me (feat. YEBBA)   \n",
       "4   Niall Horan             Put A Little Love On Me   \n",
       "\n",
       "                                          track_name                track_id  \\\n",
       "0                             Falling Like The Stars  15xWRPHQMeqgdkGzInx3PY   \n",
       "1  I Like Me Better - Recorded at Spotify Studios...  2uQNcZYa0SEbfW4cj0d9OS   \n",
       "2                 Lover (Remix) [feat. Shawn Mendes]  3i9UVldZOE0aD0JnyfAZZ0   \n",
       "3                      Best Part of Me (feat. YEBBA)  5ug4vqGZ3eisGhY1IsziNX   \n",
       "4                            Put A Little Love On Me  1hCTxutVVYvggAQcUUUZAT   \n",
       "\n",
       "   danceability  energy key  loudness mode  speechiness  instrumentalness  \\\n",
       "0         0.296   0.351   6    -9.538    1       0.0351          0.000002   \n",
       "1         0.454   0.151   9   -13.444    1       0.0600          0.000000   \n",
       "2         0.448   0.603   7    -7.176    1       0.0640          0.000000   \n",
       "3         0.565   0.242   2    -8.367    1       0.0318          0.000009   \n",
       "4         0.584   0.465  10    -4.880    1       0.0262          0.000000   \n",
       "\n",
       "   liveness  valence    tempo duration_ms time_signature  \n",
       "0    0.1100    0.190  177.596      212720              3  \n",
       "1    0.0792    0.362   90.187      202685              4  \n",
       "2    0.0862    0.422  205.272      221307              3  \n",
       "3    0.2850    0.237   81.657      243267              4  \n",
       "4    0.1060    0.299   95.969      224586              4  "
      ]
     },
     "execution_count": 24,
     "metadata": {},
     "output_type": "execute_result"
    }
   ],
   "source": [
    "playlist_df.head()"
   ]
  },
  {
   "cell_type": "code",
   "execution_count": null,
   "metadata": {},
   "outputs": [],
   "source": [
    "playlist_df.to_csv(\"filename.csv\", index = False)"
   ]
  },
  {
   "cell_type": "markdown",
   "metadata": {},
   "source": [
    "### 3.2 Analyze Multiple Playlists"
   ]
  },
  {
   "cell_type": "code",
   "execution_count": 25,
   "metadata": {},
   "outputs": [],
   "source": [
    "playlist_dict = {\n",
    "    \"warm_fuzzy_feeling\" : (\"spotify\", \"37i9dQZF1DX5IDTimEWoTd\"), \n",
    "    \"love_songs_heart\" : (\"indiemono\", \"5KbTzqKBqxQRD8OBtJTZrS\"),\n",
    "    \"romance_songs\" : (\"Susan Doles\", \"7sAUK3XK8NHH1s5vGcTBkF\")\n",
    "}"
   ]
  },
  {
   "cell_type": "code",
   "execution_count": 26,
   "metadata": {},
   "outputs": [],
   "source": [
    "def analyze_playlist_dict(playlist_dict):\n",
    "    \n",
    "    # Loop through every playlist in the dict and analyze it\n",
    "    for i, (key, val) in enumerate(playlist_dict.items()):\n",
    "        playlist_df = analyze_playlist(*val)\n",
    "        # Add a playlist column so that we can see which playlist a track belongs too\n",
    "        playlist_df[\"playlist\"] = key\n",
    "        # Create or concat df\n",
    "        if i == 0:\n",
    "            playlist_dict_df = playlist_df\n",
    "        else:\n",
    "            playlist_dict_df = pd.concat([playlist_dict_df, playlist_df], ignore_index = True)\n",
    "            \n",
    "    return playlist_dict_df"
   ]
  },
  {
   "cell_type": "code",
   "execution_count": 23,
   "metadata": {},
   "outputs": [],
   "source": [
    "multiple_playlist_df = analyze_playlist_dict(playlist_dict)"
   ]
  },
  {
   "cell_type": "code",
   "execution_count": 27,
   "metadata": {
    "scrolled": true
   },
   "outputs": [
    {
     "data": {
      "text/html": [
       "<div>\n",
       "<style scoped>\n",
       "    .dataframe tbody tr th:only-of-type {\n",
       "        vertical-align: middle;\n",
       "    }\n",
       "\n",
       "    .dataframe tbody tr th {\n",
       "        vertical-align: top;\n",
       "    }\n",
       "\n",
       "    .dataframe thead th {\n",
       "        text-align: right;\n",
       "    }\n",
       "</style>\n",
       "<table border=\"1\" class=\"dataframe\">\n",
       "  <thead>\n",
       "    <tr style=\"text-align: right;\">\n",
       "      <th></th>\n",
       "      <th>artist</th>\n",
       "      <th>album</th>\n",
       "      <th>track_name</th>\n",
       "      <th>track_id</th>\n",
       "      <th>danceability</th>\n",
       "      <th>energy</th>\n",
       "      <th>key</th>\n",
       "      <th>loudness</th>\n",
       "      <th>mode</th>\n",
       "      <th>speechiness</th>\n",
       "      <th>instrumentalness</th>\n",
       "      <th>liveness</th>\n",
       "      <th>valence</th>\n",
       "      <th>tempo</th>\n",
       "      <th>duration_ms</th>\n",
       "      <th>time_signature</th>\n",
       "      <th>playlist</th>\n",
       "    </tr>\n",
       "  </thead>\n",
       "  <tbody>\n",
       "    <tr>\n",
       "      <th>0</th>\n",
       "      <td>James Arthur</td>\n",
       "      <td>Falling Like The Stars</td>\n",
       "      <td>Falling Like The Stars</td>\n",
       "      <td>15xWRPHQMeqgdkGzInx3PY</td>\n",
       "      <td>0.296</td>\n",
       "      <td>0.351</td>\n",
       "      <td>6</td>\n",
       "      <td>-9.538</td>\n",
       "      <td>1</td>\n",
       "      <td>0.0351</td>\n",
       "      <td>1.5e-06</td>\n",
       "      <td>0.1100</td>\n",
       "      <td>0.190</td>\n",
       "      <td>177.596</td>\n",
       "      <td>212720</td>\n",
       "      <td>3</td>\n",
       "      <td>warm_fuzzy_feeling</td>\n",
       "    </tr>\n",
       "    <tr>\n",
       "      <th>1</th>\n",
       "      <td>Lauv</td>\n",
       "      <td>Spotify Singles</td>\n",
       "      <td>I Like Me Better - Recorded at Spotify Studios...</td>\n",
       "      <td>2uQNcZYa0SEbfW4cj0d9OS</td>\n",
       "      <td>0.454</td>\n",
       "      <td>0.151</td>\n",
       "      <td>9</td>\n",
       "      <td>-13.444</td>\n",
       "      <td>1</td>\n",
       "      <td>0.0600</td>\n",
       "      <td>0</td>\n",
       "      <td>0.0792</td>\n",
       "      <td>0.362</td>\n",
       "      <td>90.187</td>\n",
       "      <td>202685</td>\n",
       "      <td>4</td>\n",
       "      <td>warm_fuzzy_feeling</td>\n",
       "    </tr>\n",
       "    <tr>\n",
       "      <th>2</th>\n",
       "      <td>Taylor Swift</td>\n",
       "      <td>Lover (Remix) [feat. Shawn Mendes]</td>\n",
       "      <td>Lover (Remix) [feat. Shawn Mendes]</td>\n",
       "      <td>3i9UVldZOE0aD0JnyfAZZ0</td>\n",
       "      <td>0.448</td>\n",
       "      <td>0.603</td>\n",
       "      <td>7</td>\n",
       "      <td>-7.176</td>\n",
       "      <td>1</td>\n",
       "      <td>0.0640</td>\n",
       "      <td>0</td>\n",
       "      <td>0.0862</td>\n",
       "      <td>0.422</td>\n",
       "      <td>205.272</td>\n",
       "      <td>221307</td>\n",
       "      <td>3</td>\n",
       "      <td>warm_fuzzy_feeling</td>\n",
       "    </tr>\n",
       "    <tr>\n",
       "      <th>3</th>\n",
       "      <td>Ed Sheeran</td>\n",
       "      <td>Best Part of Me (feat. YEBBA)</td>\n",
       "      <td>Best Part of Me (feat. YEBBA)</td>\n",
       "      <td>5ug4vqGZ3eisGhY1IsziNX</td>\n",
       "      <td>0.565</td>\n",
       "      <td>0.242</td>\n",
       "      <td>2</td>\n",
       "      <td>-8.367</td>\n",
       "      <td>1</td>\n",
       "      <td>0.0318</td>\n",
       "      <td>9.3e-06</td>\n",
       "      <td>0.2850</td>\n",
       "      <td>0.237</td>\n",
       "      <td>81.657</td>\n",
       "      <td>243267</td>\n",
       "      <td>4</td>\n",
       "      <td>warm_fuzzy_feeling</td>\n",
       "    </tr>\n",
       "    <tr>\n",
       "      <th>4</th>\n",
       "      <td>Niall Horan</td>\n",
       "      <td>Put A Little Love On Me</td>\n",
       "      <td>Put A Little Love On Me</td>\n",
       "      <td>1hCTxutVVYvggAQcUUUZAT</td>\n",
       "      <td>0.584</td>\n",
       "      <td>0.465</td>\n",
       "      <td>10</td>\n",
       "      <td>-4.880</td>\n",
       "      <td>1</td>\n",
       "      <td>0.0262</td>\n",
       "      <td>0</td>\n",
       "      <td>0.1060</td>\n",
       "      <td>0.299</td>\n",
       "      <td>95.969</td>\n",
       "      <td>224586</td>\n",
       "      <td>4</td>\n",
       "      <td>warm_fuzzy_feeling</td>\n",
       "    </tr>\n",
       "  </tbody>\n",
       "</table>\n",
       "</div>"
      ],
      "text/plain": [
       "         artist                               album  \\\n",
       "0  James Arthur              Falling Like The Stars   \n",
       "1          Lauv                     Spotify Singles   \n",
       "2  Taylor Swift  Lover (Remix) [feat. Shawn Mendes]   \n",
       "3    Ed Sheeran       Best Part of Me (feat. YEBBA)   \n",
       "4   Niall Horan             Put A Little Love On Me   \n",
       "\n",
       "                                          track_name                track_id  \\\n",
       "0                             Falling Like The Stars  15xWRPHQMeqgdkGzInx3PY   \n",
       "1  I Like Me Better - Recorded at Spotify Studios...  2uQNcZYa0SEbfW4cj0d9OS   \n",
       "2                 Lover (Remix) [feat. Shawn Mendes]  3i9UVldZOE0aD0JnyfAZZ0   \n",
       "3                      Best Part of Me (feat. YEBBA)  5ug4vqGZ3eisGhY1IsziNX   \n",
       "4                            Put A Little Love On Me  1hCTxutVVYvggAQcUUUZAT   \n",
       "\n",
       "   danceability  energy key  loudness mode  speechiness instrumentalness  \\\n",
       "0         0.296   0.351   6    -9.538    1       0.0351          1.5e-06   \n",
       "1         0.454   0.151   9   -13.444    1       0.0600                0   \n",
       "2         0.448   0.603   7    -7.176    1       0.0640                0   \n",
       "3         0.565   0.242   2    -8.367    1       0.0318          9.3e-06   \n",
       "4         0.584   0.465  10    -4.880    1       0.0262                0   \n",
       "\n",
       "   liveness  valence    tempo duration_ms time_signature            playlist  \n",
       "0    0.1100    0.190  177.596      212720              3  warm_fuzzy_feeling  \n",
       "1    0.0792    0.362   90.187      202685              4  warm_fuzzy_feeling  \n",
       "2    0.0862    0.422  205.272      221307              3  warm_fuzzy_feeling  \n",
       "3    0.2850    0.237   81.657      243267              4  warm_fuzzy_feeling  \n",
       "4    0.1060    0.299   95.969      224586              4  warm_fuzzy_feeling  "
      ]
     },
     "execution_count": 27,
     "metadata": {},
     "output_type": "execute_result"
    }
   ],
   "source": [
    "multiple_playlist_df.head()"
   ]
  },
  {
   "cell_type": "code",
   "execution_count": 28,
   "metadata": {},
   "outputs": [
    {
     "data": {
      "text/plain": [
       "love_songs_heart      100\n",
       "romance_songs          77\n",
       "warm_fuzzy_feeling     70\n",
       "Name: playlist, dtype: int64"
      ]
     },
     "execution_count": 28,
     "metadata": {},
     "output_type": "execute_result"
    }
   ],
   "source": [
    "multiple_playlist_df[\"playlist\"].value_counts()"
   ]
  },
  {
   "cell_type": "code",
   "execution_count": null,
   "metadata": {},
   "outputs": [],
   "source": [
    "playlist_df.to_csv(\"filename.csv\", index = False)"
   ]
  }
 ],
 "metadata": {
  "kernelspec": {
   "display_name": "Python 3",
   "language": "python",
   "name": "python3"
  },
  "language_info": {
   "codemirror_mode": {
    "name": "ipython",
    "version": 3
   },
   "file_extension": ".py",
   "mimetype": "text/x-python",
   "name": "python",
   "nbconvert_exporter": "python",
   "pygments_lexer": "ipython3",
   "version": "3.7.3"
  }
 },
 "nbformat": 4,
 "nbformat_minor": 2
}
